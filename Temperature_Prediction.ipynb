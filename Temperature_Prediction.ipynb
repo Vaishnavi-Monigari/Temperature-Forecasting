{
  "nbformat": 4,
  "nbformat_minor": 0,
  "metadata": {
    "colab": {
      "name": "Temperature Prediction.ipynb",
      "provenance": [],
      "collapsed_sections": []
    },
    "kernelspec": {
      "name": "python3",
      "display_name": "Python 3"
    },
    "language_info": {
      "name": "python"
    }
  },
  "cells": [
    {
      "cell_type": "code",
      "metadata": {
        "colab": {
          "base_uri": "https://localhost:8080/"
        },
        "id": "swstB1n-DfvT",
        "outputId": "e04fb450-da58-47e6-c6a9-3ea83876db37"
      },
      "source": [
        "import numpy as np\n",
        "import pandas as pd\n",
        "from sklearn.model_selection import train_test_split\n",
        "from sklearn import preprocessing\n",
        "from sklearn.ensemble import RandomForestRegressor\n",
        "from sklearn.pipeline import make_pipeline\n",
        "from sklearn.model_selection import GridSearchCV\n",
        "from sklearn.metrics import mean_squared_error, r2_score\n",
        "from sklearn.externals import joblib\n",
        "from sklearn.preprocessing import RobustScaler\n",
        "import csv\n",
        "import datetime\n",
        "from sklearn.svm import SVR\n",
        "import sklearn.svm as svm\n",
        "from sklearn.linear_model import LinearRegression"
      ],
      "execution_count": 1,
      "outputs": [
        {
          "output_type": "stream",
          "text": [
            "/usr/local/lib/python3.7/dist-packages/sklearn/externals/joblib/__init__.py:15: FutureWarning: sklearn.externals.joblib is deprecated in 0.21 and will be removed in 0.23. Please import this functionality directly from joblib, which can be installed with: pip install joblib. If this warning is raised when loading pickled models, you may need to re-serialize those models with scikit-learn 0.21+.\n",
            "  warnings.warn(msg, category=FutureWarning)\n"
          ],
          "name": "stderr"
        }
      ]
    },
    {
      "cell_type": "code",
      "metadata": {
        "id": "uCYCDfe_Dncs"
      },
      "source": [
        "dataset_url1 = 'https://opendata-download-metobs.smhi.se/api/version/1.0/parameter/2/station/71420/period/corrected-archive/data.csv'\n",
        "dataset_url2 = 'https://opendata-download-metobs.smhi.se/api/version/1.0/parameter/2/station/7142'"
      ],
      "execution_count": 3,
      "outputs": []
    },
    {
      "cell_type": "code",
      "metadata": {
        "id": "5QANVeVoDsX2"
      },
      "source": [
        "data1 = pd.read_csv(dataset_url1, sep=';', skiprows=3607, names= [\n",
        "    'Fran Datum Tid (UTC)', 'till', 'day', 'temperature', 'Kvalitet', 'Tidsutsnitt:', 'Unnamed: 5'\n",
        "])"
      ],
      "execution_count": 5,
      "outputs": []
    },
    {
      "cell_type": "code",
      "metadata": {
        "id": "oYKBd8eiEuTd"
      },
      "source": [
        "data2 = pd.read_csv(dataset_url1, sep=';', skiprows=15, names= [\n",
        "    'Fran Datum Tid (UTC)', 'till', 'day', 'temperature', 'Kvalitet', 'Tidsutsnitt:', 'Unnamed: 5'\n",
        "])"
      ],
      "execution_count": 15,
      "outputs": []
    },
    {
      "cell_type": "code",
      "metadata": {
        "id": "v4LUjIkZFt83"
      },
      "source": [
        "def train_data():\n",
        "    x = data1.drop('Kvalitet', axis = 1)\n",
        "    x = x.drop('Unnamed: 5', axis = 1)\n",
        "    x = x.drop('Fran Datum Tid (UTC)', axis = 1)\n",
        "    x = x.drop('Tidsutsnitt:', axis = 1)\n",
        "    y = x.temperature\n",
        "    X = x.drop('temperature', axis= 1)\n",
        "\n",
        "    x2 = data2.drop('Kvalitet', axis = 1)\n",
        "    x2 = x2.drop('Unnamed: 5', axis = 1)\n",
        "    # x2 = x2.drop('Till Datum Tid (UTC)', axis = 1)\n",
        "    x2 = x2.drop('Fran Datum Tid (UTC)', axis = 1)\n",
        "    x2 = x2.drop('Tidsutsnitt:', axis = 1)\n",
        "    y2 = x2.temperature\n",
        "    X2 = x2.drop('temperature', axis= 1)\n",
        "\n",
        "    new_dates = []\n",
        "    counter = 0\n",
        "    X = X.append(X2)\n",
        "    dates = X.day\n",
        "    for day in dates:\n",
        "        day = datetime.datetime.strptime(day, \"%Y-%m-%d\")\n",
        "        day2 = (day - datetime.datetime(1970,1,1)).total_seconds()\n",
        "        new_dates.append(day2)\n",
        "    X.day = new_dates\n",
        "    new_dates= []\n",
        "    for day in X.till:\n",
        "        day = datetime.datetime.strptime(day, \"%Y-%m-%d %H:%M:%S\")\n",
        "        day2 = (day - datetime.datetime(1970,1,1)).total_seconds()\n",
        "        new_dates.append(day2)\n",
        "    X.till = new_dates\n",
        "    y = y.append(y2)\n",
        "\n",
        "    X_train, X_test, y_train, y_test = train_test_split(X, y,\n",
        "                                                        test_size=0.5, \n",
        "                                                        random_state=123, \n",
        "                                                        )\n",
        "\n",
        "\n",
        "    scaler = preprocessing.StandardScaler().fit(X_train)\n",
        "    X_train_scaled = scaler.transform(X_train)\n",
        " \n",
        "    pipeline = make_pipeline(preprocessing.StandardScaler(), \n",
        "                         RandomForestRegressor(n_estimators=100))\n",
        "\n",
        "    hyperparameters = { 'randomforestregressor__max_features' : ['auto', 'sqrt', 'log2'],\n",
        "                  'randomforestregressor__max_depth': [None, 5, 3, 1], }\n",
        "\n",
        "    clf = LinearRegression()\n",
        "    clf.fit(X_train, y_train)\n",
        "    pred = clf.predict(X_test)\n",
        "    print(\"r2 score is:\")\n",
        "    print (r2_score(y_test, pred))\n",
        "    print(\"mean_squared_error is:\")\n",
        "    print (mean_squared_error(y_test, pred))\n",
        "  #  print(y_test,pred)\n",
        "    joblib.dump(clf, 'weather_predictor.pkl')\n",
        "\n",
        "def get_the_weather(date):\n",
        "    weather = data1.day\n",
        "    temp = data1.temperature\n",
        "\n",
        "    for i in range(0, len(weather)):\n",
        "        day = datetime.datetime.strptime(weather[i], \"%Y-%m-%d\")\n",
        "        if (day == date):\n",
        "            return temp[i]\n",
        "            \n"
      ],
      "execution_count": 18,
      "outputs": []
    },
    {
      "cell_type": "code",
      "metadata": {
        "id": "vm3_Bb63FzU1"
      },
      "source": [
        "def predict_weather():\n",
        "    clf = joblib.load('weather_predictor.pkl')\n",
        "    print(\"-\" * 48)\n",
        "    print(\"Enter the details of the date you would like to predict\")\n",
        "    print(\"\\n\")\n",
        "    option = int(input(\"Year: \"))\n",
        "    year = option\n",
        "    option = int(input(\"Month number (00): \"))\n",
        "    month = option\n",
        "    option = int(input(\"Day number (00): \"))\n",
        "    theday = option\n",
        "\n",
        "    day = str(year) + \"-\" + str(month) + \"-\" + str(theday)\n",
        "    day = datetime.datetime.strptime(day, \"%Y-%m-%d\")\n",
        "    date = (day - datetime.datetime(1970,1,1)).total_seconds()\n",
        "\n",
        "    day_x = str(year) + \"-\" + str(month) + \"-\" + str(theday+1)\n",
        "    day_x = datetime.datetime.strptime(day_x, \"%Y-%m-%d\")\n",
        "    date_x = (day_x - datetime.datetime(1970,1,1)).total_seconds()\n",
        "\n",
        "    X = [[date, date_x]]\n",
        "    print(\"\\n\")\n",
        "    print(\"-\" * 48)\n",
        "    print(\"The temperature is predicted to be: \" + str(clf.predict(X)[0]))\n",
        "    print(\"The temperature was actually: \" + str(get_the_weather(day)))\n",
        "    print(\"-\" * 48)\n",
        "    print(\"\\n\")"
      ],
      "execution_count": 19,
      "outputs": []
    },
    {
      "cell_type": "code",
      "metadata": {
        "colab": {
          "base_uri": "https://localhost:8080/"
        },
        "id": "e04MPA9TF-Ip",
        "outputId": "71cdd201-d263-4625-dc6a-60d8bb6ecaea"
      },
      "source": [
        "def run_menu():\n",
        "    print(\"*\" *48)\n",
        "    print(\"-\" *10 + \" What would you like to do? \" + \"-\" *10)\n",
        "    print(\"\\n\")\n",
        "    print(\"1. Look up the weather on a specific day\")\n",
        "    print(\"2. Predict the weather on a specific day\")\n",
        "    print(\"\\n\")\n",
        "\n",
        "    option = int(input(\"Enter option: \"))\n",
        "\n",
        "    while True:\n",
        "        if option == 2 or option == 1 or option == 9:\n",
        "            break\n",
        "        #option = input(\"Enter option: \")\n",
        "    return option\n",
        "def run_program(option):\n",
        "    if option == 1:\n",
        "        predict_weather()\n",
        "    elif option == 2:\n",
        "        predict_weather()\n",
        "\n",
        "if __name__== \"__main__\":\n",
        "    train_data()\n",
        "\n",
        "    while True:\n",
        "        option = run_menu()\n",
        "        if option == 9:\n",
        "            break\n",
        "        else:\n",
        "            run_program(option)\n",
        "\n"
      ],
      "execution_count": 26,
      "outputs": [
        {
          "output_type": "stream",
          "text": [
            "r2 score is:\n",
            "0.005505279930846818\n",
            "mean_squared_error is:\n",
            "52.48743067819222\n",
            "************************************************\n",
            "---------- What would you like to do? ----------\n",
            "\n",
            "\n",
            "1. Look up the weather on a specific day\n",
            "2. Predict the weather on a specific day\n",
            "\n",
            "\n",
            "Enter option: 1\n",
            "------------------------------------------------\n",
            "Enter the details of the date you would like to predict\n",
            "\n",
            "\n",
            "Year: 2001\n",
            "Month number (00): 5\n",
            "Day number (00): 21\n",
            "\n",
            "\n",
            "------------------------------------------------\n",
            "The temperature is predicted to be: 8.731966851304144\n",
            "The temperature was actually: 10.1\n",
            "------------------------------------------------\n",
            "\n",
            "\n",
            "************************************************\n",
            "---------- What would you like to do? ----------\n",
            "\n",
            "\n",
            "1. Look up the weather on a specific day\n",
            "2. Predict the weather on a specific day\n",
            "\n",
            "\n",
            "Enter option: 9\n"
          ],
          "name": "stdout"
        }
      ]
    }
  ]
}